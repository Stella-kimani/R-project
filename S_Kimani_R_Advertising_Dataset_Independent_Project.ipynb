{
  "nbformat": 4,
  "nbformat_minor": 0,
  "metadata": {
    "colab": {
      "name": "S.Kimani_R_Advertising_Dataset_Independent_Project",
      "provenance": [],
      "authorship_tag": "ABX9TyPTBQIY1NGDz0lD/0/pzCwq",
      "include_colab_link": true
    },
    "kernelspec": {
      "name": "python3",
      "display_name": "Python 3"
    }
  },
  "cells": [
    {
      "cell_type": "markdown",
      "metadata": {
        "id": "view-in-github",
        "colab_type": "text"
      },
      "source": [
        "<a href=\"https://colab.research.google.com/github/Stella-kimani/R-project/blob/master/S_Kimani_R_Advertising_Dataset_Independent_Project.ipynb\" target=\"_parent\"><img src=\"https://colab.research.google.com/assets/colab-badge.svg\" alt=\"Open In Colab\"/></a>"
      ]
    },
    {
      "cell_type": "markdown",
      "metadata": {
        "id": "ETRJHEN_WykA",
        "colab_type": "text"
      },
      "source": [
        "#1.Introduction\n",
        "\n",
        "#a.Research Question\n",
        "\n",
        "As a Data Science Consultant i have been tasked by a kenyan entrepreneur to help her identify which individuals are most likely to click on her ads. \n",
        "\n",
        "This Kenyan entrepreneur has created an online cryptography course and would want to advertise it on her blog."
      ]
    },
    {
      "cell_type": "markdown",
      "metadata": {
        "id": "5MngEwCOXAYK",
        "colab_type": "text"
      },
      "source": [
        "#2.Understanding the context\n",
        "\n",
        "Online ads have become a daily part of internet life.Online advertising is much more fluid and dynamic than simple print ads. Online ads can and should be precise in who they target, going only to viewers based on location, age, interests, or other demographics relevant to the business. \n",
        "The ‘click’ goes to the business’s homepage or a content-specific landing page.\n",
        "\n",
        "Types of Online Ads;\n",
        "\n",
        "1.Google Adwords > These ads appear on Google search result pages, on the side, for businesses pertaining to the search criteria and for the demographic parameters. These  usually are effective for campaigns based on specific keywords.\n",
        "\n",
        "2.Search Ads > These are similar to Google Adwords, except these ads appear as search results (usually top results) instead of on the side.\n",
        "\n",
        "\n",
        " \n"
      ]
    },
    {
      "cell_type": "markdown",
      "metadata": {
        "id": "RJEGDEoiW8Li",
        "colab_type": "text"
      },
      "source": [
        "#3.Loading the dataset and checking through the dataset"
      ]
    },
    {
      "cell_type": "code",
      "metadata": {
        "id": "7KI0rTiRZvlj",
        "colab_type": "code",
        "colab": {
          "base_uri": "https://localhost:8080/",
          "height": 108
        },
        "outputId": "c3f1578c-6ca2-4f17-c24d-e6595ca3237b"
      },
      "source": [
        "# Load R environment\n",
        "%load_ext rpy2.ipython"
      ],
      "execution_count": 2,
      "outputs": [
        {
          "output_type": "stream",
          "text": [
            "/usr/local/lib/python3.6/dist-packages/rpy2/robjects/pandas2ri.py:14: FutureWarning: pandas.core.index is deprecated and will be removed in a future version.  The public classes are available in the top-level namespace.\n",
            "  from pandas.core.index import Index as PandasIndex\n",
            "/usr/local/lib/python3.6/dist-packages/rpy2/robjects/pandas2ri.py:34: UserWarning: pandas >= 1.0 is not supported.\n",
            "  warnings.warn('pandas >= 1.0 is not supported.')\n"
          ],
          "name": "stderr"
        }
      ]
    },
    {
      "cell_type": "code",
      "metadata": {
        "id": "vV9OQ-EiY5H8",
        "colab_type": "code",
        "colab": {}
      },
      "source": [
        "#Installing necesary  package \n",
        "%%R\n",
        "install.packages(\"data.table\")#This package provides an enhanced version of a data frame which are structures for storing data in base R.\n",
        "require(data.table)\n"
      ],
      "execution_count": null,
      "outputs": []
    },
    {
      "cell_type": "code",
      "metadata": {
        "id": "DLEBUR7p6RUm",
        "colab_type": "code",
        "colab": {}
      },
      "source": [
        "%%R\n",
        "install.packages(\"vioplot\")\n",
        "require(vioplot)\n",
        "library(vioplot)# This library enables us to plot violin plots from our data.I will do this in EDA.\n"
      ],
      "execution_count": null,
      "outputs": []
    },
    {
      "cell_type": "code",
      "metadata": {
        "id": "gifi_bfnakC4",
        "colab_type": "code",
        "colab": {}
      },
      "source": [
        "#Loading dataset \n",
        "%%R\n",
        "df <- fread('/content/advertising.csv')"
      ],
      "execution_count": 4,
      "outputs": []
    },
    {
      "cell_type": "code",
      "metadata": {
        "id": "hmSOufOvbZRq",
        "colab_type": "code",
        "colab": {
          "base_uri": "https://localhost:8080/",
          "height": 390
        },
        "outputId": "f175451c-60fe-4803-d218-e3da42942b8f"
      },
      "source": [
        "#Preview of the head of our dataset\n",
        "%%R\n",
        "head(df)\n",
        "\n",
        "print(head(df))"
      ],
      "execution_count": null,
      "outputs": [
        {
          "output_type": "stream",
          "text": [
            "   Daily Time Spent on Site Age Area Income Daily Internet Usage\n",
            "1:                    68.95  35    61833.90               256.09\n",
            "2:                    80.23  31    68441.85               193.77\n",
            "3:                    69.47  26    59785.94               236.50\n",
            "4:                    74.15  29    54806.18               245.89\n",
            "5:                    68.37  35    73889.99               225.58\n",
            "6:                    59.99  23    59761.56               226.74\n",
            "                           Ad Topic Line           City Male    Country\n",
            "1:    Cloned 5thgeneration orchestration    Wrightburgh    0    Tunisia\n",
            "2:    Monitored national standardization      West Jodi    1      Nauru\n",
            "3:      Organic bottom-line service-desk       Davidton    0 San Marino\n",
            "4: Triple-buffered reciprocal time-frame West Terrifurt    1      Italy\n",
            "5:         Robust logistical utilization   South Manuel    0    Iceland\n",
            "6:       Sharable client-driven software      Jamieberg    1     Norway\n",
            "             Timestamp Clicked on Ad\n",
            "1: 2016-03-27 00:53:11             0\n",
            "2: 2016-04-04 01:39:02             0\n",
            "3: 2016-03-13 20:35:42             0\n",
            "4: 2016-01-10 02:31:19             0\n",
            "5: 2016-06-03 03:36:18             0\n",
            "6: 2016-05-19 14:30:17             0\n"
          ],
          "name": "stdout"
        }
      ]
    },
    {
      "cell_type": "markdown",
      "metadata": {
        "id": "-kjfaI-8qZzj",
        "colab_type": "text"
      },
      "source": [
        "This gives the first 6 entries in the dataset"
      ]
    },
    {
      "cell_type": "code",
      "metadata": {
        "id": "uXzzN55Hb37Y",
        "colab_type": "code",
        "colab": {
          "base_uri": "https://localhost:8080/",
          "height": 657
        },
        "outputId": "66d5c17d-a0a5-45a6-9497-ef5000626e02"
      },
      "source": [
        "#Preview of the dataset\n",
        "%%R\n",
        "print(df)"
      ],
      "execution_count": null,
      "outputs": [
        {
          "output_type": "stream",
          "text": [
            "      Daily Time Spent on Site Age Area Income Daily Internet Usage\n",
            "   1:                    68.95  35    61833.90               256.09\n",
            "   2:                    80.23  31    68441.85               193.77\n",
            "   3:                    69.47  26    59785.94               236.50\n",
            "   4:                    74.15  29    54806.18               245.89\n",
            "   5:                    68.37  35    73889.99               225.58\n",
            "  ---                                                              \n",
            " 996:                    72.97  30    71384.57               208.58\n",
            " 997:                    51.30  45    67782.17               134.42\n",
            " 998:                    51.63  51    42415.72               120.37\n",
            " 999:                    55.55  19    41920.79               187.95\n",
            "1000:                    45.01  26    29875.80               178.35\n",
            "                              Ad Topic Line           City Male\n",
            "   1:    Cloned 5thgeneration orchestration    Wrightburgh    0\n",
            "   2:    Monitored national standardization      West Jodi    1\n",
            "   3:      Organic bottom-line service-desk       Davidton    0\n",
            "   4: Triple-buffered reciprocal time-frame West Terrifurt    1\n",
            "   5:         Robust logistical utilization   South Manuel    0\n",
            "  ---                                                          \n",
            " 996:         Fundamental modular algorithm      Duffystad    1\n",
            " 997:       Grass-roots cohesive monitoring    New Darlene    1\n",
            " 998:          Expanded intangible solution  South Jessica    1\n",
            " 999:  Proactive bandwidth-monitored policy    West Steven    0\n",
            "1000:       Virtual 5thgeneration emulation    Ronniemouth    0\n",
            "                     Country           Timestamp Clicked on Ad\n",
            "   1:                Tunisia 2016-03-27 00:53:11             0\n",
            "   2:                  Nauru 2016-04-04 01:39:02             0\n",
            "   3:             San Marino 2016-03-13 20:35:42             0\n",
            "   4:                  Italy 2016-01-10 02:31:19             0\n",
            "   5:                Iceland 2016-06-03 03:36:18             0\n",
            "  ---                                                         \n",
            " 996:                Lebanon 2016-02-11 21:49:00             1\n",
            " 997: Bosnia and Herzegovina 2016-04-22 02:07:01             1\n",
            " 998:               Mongolia 2016-02-01 17:24:57             1\n",
            " 999:              Guatemala 2016-03-24 02:35:54             0\n",
            "1000:                 Brazil 2016-06-03 21:43:21             1\n"
          ],
          "name": "stdout"
        }
      ]
    },
    {
      "cell_type": "markdown",
      "metadata": {
        "id": "AmM_hngUqn6_",
        "colab_type": "text"
      },
      "source": [
        "This is a summary showing the first 6 and last 6 entries in the dataset."
      ]
    },
    {
      "cell_type": "code",
      "metadata": {
        "id": "pxHNymgRc9FH",
        "colab_type": "code",
        "colab": {
          "base_uri": "https://localhost:8080/",
          "height": 250
        },
        "outputId": "03243f68-c17f-4358-9b23-6c736486eeb6"
      },
      "source": [
        "#Let's display the structure of the dataset.\n",
        "%%R\n",
        "str(df)"
      ],
      "execution_count": null,
      "outputs": [
        {
          "output_type": "stream",
          "text": [
            "Classes ‘data.table’ and 'data.frame':\t1000 obs. of  10 variables:\n",
            " $ Daily Time Spent on Site: num  69 80.2 69.5 74.2 68.4 ...\n",
            " $ Age                     : int  35 31 26 29 35 23 33 48 30 20 ...\n",
            " $ Area Income             : num  61834 68442 59786 54806 73890 ...\n",
            " $ Daily Internet Usage    : num  256 194 236 246 226 ...\n",
            " $ Ad Topic Line           : chr  \"Cloned 5thgeneration orchestration\" \"Monitored national standardization\" \"Organic bottom-line service-desk\" \"Triple-buffered reciprocal time-frame\" ...\n",
            " $ City                    : chr  \"Wrightburgh\" \"West Jodi\" \"Davidton\" \"West Terrifurt\" ...\n",
            " $ Male                    : int  0 1 0 1 0 1 0 1 1 1 ...\n",
            " $ Country                 : chr  \"Tunisia\" \"Nauru\" \"San Marino\" \"Italy\" ...\n",
            " $ Timestamp               : chr  \"2016-03-27 00:53:11\" \"2016-04-04 01:39:02\" \"2016-03-13 20:35:42\" \"2016-01-10 02:31:19\" ...\n",
            " $ Clicked on Ad           : int  0 0 0 0 0 0 0 1 0 0 ...\n",
            " - attr(*, \".internal.selfref\")=<externalptr> \n"
          ],
          "name": "stdout"
        }
      ]
    },
    {
      "cell_type": "markdown",
      "metadata": {
        "id": "IzpJKpCUrHNa",
        "colab_type": "text"
      },
      "source": [
        "This is internal structure of the dataset.There are 1000 rows and 10 columns.The columns age, daily time spent on site,male, area income ,clicked on ad are all numerical columns. Ad topic line ,city,country ,timestamp are factors(character types)."
      ]
    },
    {
      "cell_type": "code",
      "metadata": {
        "id": "2EqVW13lqv1v",
        "colab_type": "code",
        "colab": {
          "base_uri": "https://localhost:8080/",
          "height": 35
        },
        "outputId": "95244832-1fcd-401d-e5b8-54e3c4189d5f"
      },
      "source": [
        "#Let's get the dimension of our dataset\n",
        "%%R\n",
        "dim(df)"
      ],
      "execution_count": null,
      "outputs": [
        {
          "output_type": "stream",
          "text": [
            "[1] 1000   10\n"
          ],
          "name": "stdout"
        }
      ]
    },
    {
      "cell_type": "markdown",
      "metadata": {
        "id": "GN5-AYV0q1jT",
        "colab_type": "text"
      },
      "source": [
        "\n",
        "The dataset has 1000 rows and 10 columns."
      ]
    },
    {
      "cell_type": "code",
      "metadata": {
        "id": "m8crLK83rDDh",
        "colab_type": "code",
        "colab": {
          "base_uri": "https://localhost:8080/",
          "height": 35
        },
        "outputId": "b45ea469-fa4d-444f-c7b4-e8f431061287"
      },
      "source": [
        "#Getting the class of the dataframe\n",
        "%%R\n",
        "class(df)"
      ],
      "execution_count": null,
      "outputs": [
        {
          "output_type": "stream",
          "text": [
            "[1] \"data.table\" \"data.frame\"\n"
          ],
          "name": "stdout"
        }
      ]
    },
    {
      "cell_type": "markdown",
      "metadata": {
        "id": "L8ENsl-esHqa",
        "colab_type": "text"
      },
      "source": [
        "The class attribute is a dataframe."
      ]
    },
    {
      "cell_type": "code",
      "metadata": {
        "id": "1RoTpZc7tYh8",
        "colab_type": "code",
        "colab": {
          "base_uri": "https://localhost:8080/",
          "height": 390
        },
        "outputId": "5d5d800b-b02d-4ca9-d681-f7c17eb3945b"
      },
      "source": [
        "#Summary of the advertising dataset\n",
        "%%R\n",
        "summary(df)"
      ],
      "execution_count": null,
      "outputs": [
        {
          "output_type": "stream",
          "text": [
            " Daily Time Spent on Site      Age         Area Income    Daily Internet Usage\n",
            " Min.   :32.60            Min.   :19.00   Min.   :13996   Min.   :104.8       \n",
            " 1st Qu.:51.36            1st Qu.:29.00   1st Qu.:47032   1st Qu.:138.8       \n",
            " Median :68.22            Median :35.00   Median :57012   Median :183.1       \n",
            " Mean   :65.00            Mean   :36.01   Mean   :55000   Mean   :180.0       \n",
            " 3rd Qu.:78.55            3rd Qu.:42.00   3rd Qu.:65471   3rd Qu.:218.8       \n",
            " Max.   :91.43            Max.   :61.00   Max.   :79485   Max.   :270.0       \n",
            " Ad Topic Line          City                Male         Country         \n",
            " Length:1000        Length:1000        Min.   :0.000   Length:1000       \n",
            " Class :character   Class :character   1st Qu.:0.000   Class :character  \n",
            " Mode  :character   Mode  :character   Median :0.000   Mode  :character  \n",
            "                                       Mean   :0.481                     \n",
            "                                       3rd Qu.:1.000                     \n",
            "                                       Max.   :1.000                     \n",
            "  Timestamp         Clicked on Ad\n",
            " Length:1000        Min.   :0.0  \n",
            " Class :character   1st Qu.:0.0  \n",
            " Mode  :character   Median :0.5  \n",
            "                    Mean   :0.5  \n",
            "                    3rd Qu.:1.0  \n",
            "                    Max.   :1.0  \n"
          ],
          "name": "stdout"
        }
      ]
    },
    {
      "cell_type": "markdown",
      "metadata": {
        "id": "KmJLzYShsZvq",
        "colab_type": "text"
      },
      "source": [
        "This produces result and stastical summaries of all the variables.The minumum time spent on the site is 32 minutes and the maximum time is 91 minutes.The mean time spent on the site is 65 minutes.The youngest person who visited the site is 19 years old and the oldest person is 61 years old.Majority of the people who visited the site were 36 years old."
      ]
    },
    {
      "cell_type": "code",
      "metadata": {
        "id": "VOpQ_cv4t7Nj",
        "colab_type": "code",
        "colab": {
          "base_uri": "https://localhost:8080/",
          "height": 106
        },
        "outputId": "94c8b369-8825-41c3-e976-d423920fd626"
      },
      "source": [
        "#Columns of the advertising dataset\n",
        "%%R\n",
        "names(df)"
      ],
      "execution_count": null,
      "outputs": [
        {
          "output_type": "stream",
          "text": [
            " [1] \"Daily Time Spent on Site\" \"Age\"                     \n",
            " [3] \"Area Income\"              \"Daily Internet Usage\"    \n",
            " [5] \"Ad Topic Line\"            \"City\"                    \n",
            " [7] \"Male\"                     \"Country\"                 \n",
            " [9] \"Timestamp\"                \"Clicked on Ad\"           \n"
          ],
          "name": "stdout"
        }
      ]
    },
    {
      "cell_type": "markdown",
      "metadata": {
        "id": "xqd8ttP0KPlL",
        "colab_type": "text"
      },
      "source": [
        "#Dataset External validation\n",
        "\n",
        "This dataset is valid and can be found here.\n",
        "\n",
        "https://www.kaggle.com/homelesssandwich/analysis-of-advertising-data\n",
        "\n",
        "This is a descriprion of the columns.\n",
        "\n",
        "1.Daily Time Spent on a Site -Time spent by the user on a site in minutes.\n",
        "\n",
        "2.Age-\tCustomer's age in terms of years.\n",
        "\n",
        "3.Area Income-\tAverage income of geographical area of consumer.\n",
        "\n",
        "4.Daily Internet Usage\t-Average minutes in a day consumer is on the internet.\n",
        "\n",
        "5.Ad Topic Line-\tHeadline of the advertisement.\n",
        "\n",
        "6.City\t-City of the consumer.\\\n",
        "\n",
        "7.Male\t-Whether or not a consumer was male.\n",
        "\n",
        "8.Country-\tCountry of the consumer.\n",
        "\n",
        "9.Timestamp\t-Time at which user clicked on an Ad or the closed window.\n",
        "\n",
        "10.Clicked on Ad\t0 or 1 is indicated clicking on an Ad."
      ]
    },
    {
      "cell_type": "markdown",
      "metadata": {
        "id": "5pLxjo3GtCGF",
        "colab_type": "text"
      },
      "source": [
        "There are 10 columns in the dataset."
      ]
    },
    {
      "cell_type": "code",
      "metadata": {
        "id": "conF4XXZ05a_",
        "colab_type": "code",
        "colab": {
          "base_uri": "https://localhost:8080/",
          "height": 35
        },
        "outputId": "80c6d8a1-2f93-4f3e-d005-cd8f1643fb00"
      },
      "source": [
        "#Check for duplicates\n",
        "%%R\n",
        "duplicated_df <- df[duplicated(df),]\n",
        "print(duplicated_df)\n"
      ],
      "execution_count": null,
      "outputs": [
        {
          "output_type": "stream",
          "text": [
            "Empty data.table (0 rows and 10 cols): Daily Time Spent on Site,Age,Area Income,Daily Internet Usage,Ad Topic Line,City...\n"
          ],
          "name": "stdout"
        }
      ]
    },
    {
      "cell_type": "markdown",
      "metadata": {
        "id": "__wCa7IxAH_t",
        "colab_type": "text"
      },
      "source": [
        "There are no duplicated values."
      ]
    },
    {
      "cell_type": "code",
      "metadata": {
        "id": "xaXi56_T1IC5",
        "colab_type": "code",
        "colab": {
          "base_uri": "https://localhost:8080/",
          "height": 657
        },
        "outputId": "49de3ada-bb31-4218-bcba-86ece8b7d18d"
      },
      "source": [
        "#Check for unique values\n",
        "%%R\n",
        "unique_df <- unique(df)\n",
        "unique_df\n"
      ],
      "execution_count": null,
      "outputs": [
        {
          "output_type": "stream",
          "text": [
            "      Daily Time Spent on Site Age Area Income Daily Internet Usage\n",
            "   1:                    68.95  35    61833.90               256.09\n",
            "   2:                    80.23  31    68441.85               193.77\n",
            "   3:                    69.47  26    59785.94               236.50\n",
            "   4:                    74.15  29    54806.18               245.89\n",
            "   5:                    68.37  35    73889.99               225.58\n",
            "  ---                                                              \n",
            " 996:                    72.97  30    71384.57               208.58\n",
            " 997:                    51.30  45    67782.17               134.42\n",
            " 998:                    51.63  51    42415.72               120.37\n",
            " 999:                    55.55  19    41920.79               187.95\n",
            "1000:                    45.01  26    29875.80               178.35\n",
            "                              Ad Topic Line           City Male\n",
            "   1:    Cloned 5thgeneration orchestration    Wrightburgh    0\n",
            "   2:    Monitored national standardization      West Jodi    1\n",
            "   3:      Organic bottom-line service-desk       Davidton    0\n",
            "   4: Triple-buffered reciprocal time-frame West Terrifurt    1\n",
            "   5:         Robust logistical utilization   South Manuel    0\n",
            "  ---                                                          \n",
            " 996:         Fundamental modular algorithm      Duffystad    1\n",
            " 997:       Grass-roots cohesive monitoring    New Darlene    1\n",
            " 998:          Expanded intangible solution  South Jessica    1\n",
            " 999:  Proactive bandwidth-monitored policy    West Steven    0\n",
            "1000:       Virtual 5thgeneration emulation    Ronniemouth    0\n",
            "                     Country           Timestamp Clicked on Ad\n",
            "   1:                Tunisia 2016-03-27 00:53:11             0\n",
            "   2:                  Nauru 2016-04-04 01:39:02             0\n",
            "   3:             San Marino 2016-03-13 20:35:42             0\n",
            "   4:                  Italy 2016-01-10 02:31:19             0\n",
            "   5:                Iceland 2016-06-03 03:36:18             0\n",
            "  ---                                                         \n",
            " 996:                Lebanon 2016-02-11 21:49:00             1\n",
            " 997: Bosnia and Herzegovina 2016-04-22 02:07:01             1\n",
            " 998:               Mongolia 2016-02-01 17:24:57             1\n",
            " 999:              Guatemala 2016-03-24 02:35:54             0\n",
            "1000:                 Brazil 2016-06-03 21:43:21             1\n"
          ],
          "name": "stdout"
        }
      ]
    },
    {
      "cell_type": "code",
      "metadata": {
        "id": "1k7k7-Lk1yKG",
        "colab_type": "code",
        "colab": {
          "base_uri": "https://localhost:8080/",
          "height": 35
        },
        "outputId": "537fc5f8-fc37-411e-8390-ca28e657491f"
      },
      "source": [
        "#Check for null values\n",
        "%%R\n",
        "null_df <- is.null(df)\n",
        "null_df"
      ],
      "execution_count": null,
      "outputs": [
        {
          "output_type": "stream",
          "text": [
            "[1] FALSE\n"
          ],
          "name": "stdout"
        }
      ]
    },
    {
      "cell_type": "markdown",
      "metadata": {
        "id": "PyJfjESCt6il",
        "colab_type": "text"
      },
      "source": [
        "There are no null values in the dataset."
      ]
    },
    {
      "cell_type": "markdown",
      "metadata": {
        "id": "_bw4h0iW2h69",
        "colab_type": "text"
      },
      "source": [
        "#4.Outlier Detection"
      ]
    },
    {
      "cell_type": "code",
      "metadata": {
        "id": "pqk4N7jx8JQO",
        "colab_type": "code",
        "colab": {
          "base_uri": "https://localhost:8080/",
          "height": 497
        },
        "outputId": "58d7e8c1-cf71-4cfa-bd17-19f43537cad4"
      },
      "source": [
        "#Plot Box Plots to find outliers\n",
        "%%R\n",
        "Age_0 <- df$Age[df$`Clicked on Ad`==0]\n",
        "Age_1 <- df$Age[df$`Clicked on Ad`==1]\n",
        "boxplot(Age_0, Age_1,names=c(\"Did not click on ad\",\"Clicked on ad\"),\n",
        "        col=\"cyan\")\n",
        "title(\"Box Plots of Age column vs clicked on ad/ didnot click on ad \")\n"
      ],
      "execution_count": 5,
      "outputs": [
        {
          "output_type": "display_data",
          "data": {
            "image/png": "[encoded data removed]"
          },
          "metadata": {
            "tags": []
          }
        }
      ]
    },
    {
      "cell_type": "markdown",
      "metadata": {
        "id": "6wzBDI41ucJB",
        "colab_type": "text"
      },
      "source": [
        "From the plot the outliers are the data points located outside the whiskers of the box plot in the did not click on ad plot who are people aged 50, 51,53 years. However since we are predicting whether an individual clicked on an ad or not,i will not remove these outliers."
      ]
    },
    {
      "cell_type": "code",
      "metadata": {
        "id": "XbOJiX708kEm",
        "colab_type": "code",
        "colab": {
          "base_uri": "https://localhost:8080/",
          "height": 35
        },
        "outputId": "41290f7b-d163-4521-90f3-73127daa0286"
      },
      "source": [
        "# print out the outlier\n",
        "%%R\n",
        "boxplot.stats(Age_0)$out"
      ],
      "execution_count": null,
      "outputs": [
        {
          "output_type": "stream",
          "text": [
            "[1] 53 51 51 50\n"
          ],
          "name": "stdout"
        }
      ]
    },
    {
      "cell_type": "code",
      "metadata": {
        "id": "ge9rYVS9AhBH",
        "colab_type": "code",
        "colab": {
          "base_uri": "https://localhost:8080/",
          "height": 497
        },
        "outputId": "9fe1a17e-5bad-42e2-c112-ee9d0dd82615"
      },
      "source": [
        "#Checking for outliers in the area income column\n",
        "%%R\n",
        "boxplot(df$`Area Income`, main= \"Area Income\", bowex=0.2, col= \"orange\")"
      ],
      "execution_count": 6,
      "outputs": [
        {
          "output_type": "display_data",
          "data": {
            "image/png": "[encoded data removed]"
          },
          "metadata": {
            "tags": []
          }
        }
      ]
    },
    {
      "cell_type": "markdown",
      "metadata": {
        "id": "sFWlD3ppAjab",
        "colab_type": "text"
      },
      "source": [
        "There are outliers in this column which are values below 20,000"
      ]
    },
    {
      "cell_type": "code",
      "metadata": {
        "id": "Rl2-tJtOAxA_",
        "colab_type": "code",
        "colab": {
          "base_uri": "https://localhost:8080/",
          "height": 497
        },
        "outputId": "94d0a774-6e04-424b-ace8-eeb5e4dd3a02"
      },
      "source": [
        "#Check for outliers in the daily internet usage column\n",
        "%%R\n",
        "boxplot(df$`Daily Internet Usage`, main= \"Daily Internet Usage\", bowex=0.2, col= \"coral\")"
      ],
      "execution_count": 7,
      "outputs": [
        {
          "output_type": "display_data",
          "data": {
            "image/png": "[encoded data removed]"
          },
          "metadata": {
            "tags": []
          }
        }
      ]
    },
    {
      "cell_type": "markdown",
      "metadata": {
        "id": "liBYQcV6A1le",
        "colab_type": "text"
      },
      "source": [
        "There are no outliers in this column."
      ]
    },
    {
      "cell_type": "markdown",
      "metadata": {
        "id": "4dBnka4O2raT",
        "colab_type": "text"
      },
      "source": [
        "#5.Univariate Analysis"
      ]
    },
    {
      "cell_type": "code",
      "metadata": {
        "id": "UMbuRK5PuLSY",
        "colab_type": "code",
        "colab": {
          "base_uri": "https://localhost:8080/",
          "height": 497
        },
        "outputId": "40a939c9-6938-4693-8ce7-4743d8b6755a"
      },
      "source": [
        "#Violin plot\n",
        "%%R\n",
        "\n",
        "time_1 <- df$`Daily Time Spent on Site`[df$`Clicked on Ad`==1]\n",
        "time_0 <- df$`Daily Time Spent on Site`[df$`Clicked on Ad`==0]\n",
        "vioplot(time_0, time_1,names=c(\"People who Clicked on Ad\", \"People who did not\"),\n",
        "        col=\"pink\")\n",
        "title(\"Violin Plots of time on site vs clicked / not clicked ad\")\n",
        "\n"
      ],
      "execution_count": 17,
      "outputs": [
        {
          "output_type": "display_data",
          "data": {
            "image/png": "[encoded data removed]"
          },
          "metadata": {
            "tags": []
          }
        }
      ]
    },
    {
      "cell_type": "markdown",
      "metadata": {
        "id": "-4dLvgVF-x7G",
        "colab_type": "text"
      },
      "source": [
        "From the violin plot we see there is a difference in the shape of the plot for clicked on Ad and plot for didnot click on Ad.\n",
        "It also seems that the didnot click on Ad plot has more values than the clicked on Ad plot.Wider sections of the violin plot usually represents a higher probability of observations taking values."
      ]
    },
    {
      "cell_type": "code",
      "metadata": {
        "id": "5xwPt0TgRR5Y",
        "colab_type": "code",
        "colab": {
          "base_uri": "https://localhost:8080/",
          "height": 497
        },
        "outputId": "5d703f25-75df-4025-b7f5-1a1ce4811893"
      },
      "source": [
        "#Plotting a barplot.\n",
        "%%R\n",
        "Ads_clicked_on = table(df$Male,df$`Clicked on Ad`)\n",
        "barplot(Ads_clicked_on,main=\" Ad click for gender, 1= male, 0= Female\",xlab=\"clicked on Ad\",col=c(\"gold\",\"cyan\"),beside=TRUE, legends=TRUE)\n",
        "\n"
      ],
      "execution_count": 18,
      "outputs": [
        {
          "output_type": "display_data",
          "data": {
            "image/png": "[encoded data removed]"
          },
          "metadata": {
            "tags": []
          }
        }
      ]
    },
    {
      "cell_type": "markdown",
      "metadata": {
        "id": "G3iJ640xsekB",
        "colab_type": "text"
      },
      "source": [
        "The count for male who clicked on ads is higher than the count for females who clicked on the ads."
      ]
    },
    {
      "cell_type": "code",
      "metadata": {
        "id": "jy8QeqY0iRbB",
        "colab_type": "code",
        "colab": {
          "base_uri": "https://localhost:8080/",
          "height": 497
        },
        "outputId": "bf3ff066-55a0-41f1-fad3-b92b82afb300"
      },
      "source": [
        "#Plot a histogram of the age column.\n",
        "%%R\n",
        "#plot_histogram(df$Age)#No color\n",
        "hist(df$`Age`,col=\"cyan\")\n"
      ],
      "execution_count": null,
      "outputs": [
        {
          "output_type": "display_data",
          "data": {
            "image/png": "[encoded data removed]"
          },
          "metadata": {
            "tags": []
          }
        }
      ]
    },
    {
      "cell_type": "markdown",
      "metadata": {
        "id": "7ym8Y9hCF1G4",
        "colab_type": "text"
      },
      "source": [
        "From this histogram it shows that majority of the people were between 30 - 40 years old.The minum age in this study is below 20.\n",
        "It is a positively skewed plot since age cannot be negative."
      ]
    },
    {
      "cell_type": "code",
      "metadata": {
        "id": "vwtvCjDLGTk2",
        "colab_type": "code",
        "colab": {
          "base_uri": "https://localhost:8080/",
          "height": 497
        },
        "outputId": "025cef44-c2ca-4ebd-c0cf-710a6b1203d1"
      },
      "source": [
        "#Plot a histogram of the Area Income column.\n",
        "%%R\n",
        "hist(df$`Area Income`,col=\"green\")\n"
      ],
      "execution_count": null,
      "outputs": [
        {
          "output_type": "display_data",
          "data": {
            "image/png": "[encoded data removed]"
          },
          "metadata": {
            "tags": []
          }
        }
      ]
    },
    {
      "cell_type": "markdown",
      "metadata": {
        "id": "Z2washoeHICN",
        "colab_type": "text"
      },
      "source": [
        "From the plot above the highest income is between 60,000 to 70,000.This is the highest count for average income of geographical area of consumer.\n",
        "The plot is negatively skewed."
      ]
    },
    {
      "cell_type": "code",
      "metadata": {
        "id": "39_NoRpNcdf6",
        "colab_type": "code",
        "colab": {
          "base_uri": "https://localhost:8080/",
          "height": 497
        },
        "outputId": "84825949-7b75-46ee-b474-c6a5d135e2a3"
      },
      "source": [
        "%%R\n",
        "\n",
        "plot_density(df$Age)"
      ],
      "execution_count": null,
      "outputs": [
        {
          "output_type": "display_data",
          "data": {
            "image/png": "[encoded data removed]"
          },
          "metadata": {
            "tags": []
          }
        }
      ]
    },
    {
      "cell_type": "markdown",
      "metadata": {
        "id": "127NJgI5MLLI",
        "colab_type": "text"
      },
      "source": [
        "Majority of the people in this dataset were between 30 - 40 years.A few people were more than 60 years old."
      ]
    },
    {
      "cell_type": "code",
      "metadata": {
        "id": "-IcwIaEQkXpQ",
        "colab_type": "code",
        "colab": {
          "base_uri": "https://localhost:8080/",
          "height": 497
        },
        "outputId": "66b3cba3-89d3-49f8-9a10-ecae282146ce"
      },
      "source": [
        "#Plot a density bar of Area income.\n",
        "%%R\n",
        "plot_density(df$`Area Income`)"
      ],
      "execution_count": null,
      "outputs": [
        {
          "output_type": "display_data",
          "data": {
            "image/png": "[encoded data removed]"
          },
          "metadata": {
            "tags": []
          }
        }
      ]
    },
    {
      "cell_type": "markdown",
      "metadata": {
        "id": "CnSmfIvPMoJ7",
        "colab_type": "text"
      },
      "source": [
        "From the plot above the Average income of geographical area of consumer is highest at a value of between 60,000 to 70,000."
      ]
    },
    {
      "cell_type": "code",
      "metadata": {
        "id": "wtR_0jV_lxpP",
        "colab_type": "code",
        "colab": {
          "base_uri": "https://localhost:8080/",
          "height": 497
        },
        "outputId": "c2872af7-d260-40dd-ad2a-e5ad44875e06"
      },
      "source": [
        "%%R\n",
        "plot_density(df$`Daily Internet Usage`)"
      ],
      "execution_count": null,
      "outputs": [
        {
          "output_type": "display_data",
          "data": {
            "image/png": "[encoded data removed]"
          },
          "metadata": {
            "tags": []
          }
        }
      ]
    },
    {
      "cell_type": "markdown",
      "metadata": {
        "id": "255WqNwfg40i",
        "colab_type": "text"
      },
      "source": [
        "The daily internet usage density plot shows that is bimodal and that the highest average minutes in a day consumer is on the internet are between 200- 250 minutes and 115 to 150  minutes."
      ]
    },
    {
      "cell_type": "code",
      "metadata": {
        "id": "5uj3i__sl7ra",
        "colab_type": "code",
        "colab": {
          "base_uri": "https://localhost:8080/",
          "height": 497
        },
        "outputId": "7df38d0a-9e44-47bc-8134-ba15020511b8"
      },
      "source": [
        "#Plotting a histogram of daily time spent on site.\n",
        "%%R\n",
        "\n",
        "hist(df$`Daily Time Spent on Site`,col=\"gold\")"
      ],
      "execution_count": null,
      "outputs": [
        {
          "output_type": "display_data",
          "data": {
            "image/png": "[encoded data removed]"
          },
          "metadata": {
            "tags": []
          }
        }
      ]
    },
    {
      "cell_type": "markdown",
      "metadata": {
        "id": "0FJDnjx3EpXh",
        "colab_type": "text"
      },
      "source": [
        "The plot shows that the highest time spent on the online cryptography course site ranged from 75 minutes to 80 minutes."
      ]
    },
    {
      "cell_type": "code",
      "metadata": {
        "id": "PY88UoiYelAR",
        "colab_type": "code",
        "colab": {
          "base_uri": "https://localhost:8080/",
          "height": 497
        },
        "outputId": "b58c5672-277f-4587-c53f-c5f1d5ff162d"
      },
      "source": [
        "# Bar plot for male column.\n",
        "%%R\n",
        "sex <- df$Male\n",
        "sex_f <- table(sex)\n",
        "barplot(sex_f, col = \"cyan\")\n",
        "title(\"Male vs Female\")"
      ],
      "execution_count": 30,
      "outputs": [
        {
          "output_type": "display_data",
          "data": {
            "image/png": "[encoded data removed]"
          },
          "metadata": {
            "tags": []
          }
        }
      ]
    },
    {
      "cell_type": "markdown",
      "metadata": {
        "id": "-T9CWJsDhuCe",
        "colab_type": "text"
      },
      "source": [
        "The female count represented by 0 is higher than male count which is represented by 1.This means that there is a higher number of females compared to male  in the study"
      ]
    },
    {
      "cell_type": "code",
      "metadata": {
        "id": "iafl_PjIIir8",
        "colab_type": "code",
        "colab": {}
      },
      "source": [
        "#Install dplyr package.\n",
        "%%R\n",
        "install.packages(\"dplyr\") #dplyr is a powerful R-package to transform and summarize tabular data with rows and columns\n",
        "library(dplyr)"
      ],
      "execution_count": null,
      "outputs": []
    },
    {
      "cell_type": "code",
      "metadata": {
        "id": "PlYZUt0PJXw9",
        "colab_type": "code",
        "colab": {
          "base_uri": "https://localhost:8080/",
          "height": 301
        },
        "outputId": "d99cb535-a5b8-4df4-be55-bbe137fff24b"
      },
      "source": [
        "#Create a tibble for city column\n",
        "%%R\n",
        "City <-df  %>%\n",
        "group_by(City)%>%\n",
        "summarise(counts= n())\n",
        "City"
      ],
      "execution_count": 46,
      "outputs": [
        {
          "output_type": "stream",
          "text": [
            "R[write to console]: `summarise()` ungrouping output (override with `.groups` argument)\n",
            "\n"
          ],
          "name": "stderr"
        },
        {
          "output_type": "stream",
          "text": [
            "# A tibble: 969 x 2\n",
            "   City          counts\n",
            "   <chr>          <int>\n",
            " 1 Adamsbury          1\n",
            " 2 Adamside           1\n",
            " 3 Adamsstad          1\n",
            " 4 Alanview           1\n",
            " 5 Alexanderfurt      1\n",
            " 6 Alexanderview      1\n",
            " 7 Alexandrafort      1\n",
            " 8 Alexisland         1\n",
            " 9 Aliciatown         1\n",
            "10 Alvaradoport       1\n",
            "# … with 959 more rows\n"
          ],
          "name": "stdout"
        }
      ]
    },
    {
      "cell_type": "markdown",
      "metadata": {
        "id": "yZAiYqpzOWHF",
        "colab_type": "text"
      },
      "source": [
        "The first 10 cities sorted aplhabetically all have a count of 1."
      ]
    },
    {
      "cell_type": "code",
      "metadata": {
        "id": "EP8vsh67KvFv",
        "colab_type": "code",
        "colab": {
          "base_uri": "https://localhost:8080/",
          "height": 301
        },
        "outputId": "cca5cadc-be97-4d49-9d79-2a0894a2556b"
      },
      "source": [
        "#Create a tibble to show count per country.\n",
        "%%R\n",
        "Country <-df  %>%\n",
        "group_by(Country)%>%\n",
        "summarise(counts= n())\n",
        "Country"
      ],
      "execution_count": 38,
      "outputs": [
        {
          "output_type": "stream",
          "text": [
            "R[write to console]: `summarise()` ungrouping output (override with `.groups` argument)\n",
            "\n"
          ],
          "name": "stderr"
        },
        {
          "output_type": "stream",
          "text": [
            "# A tibble: 237 x 2\n",
            "   Country                                      counts\n",
            "   <chr>                                         <int>\n",
            " 1 Afghanistan                                       8\n",
            " 2 Albania                                           7\n",
            " 3 Algeria                                           6\n",
            " 4 American Samoa                                    5\n",
            " 5 Andorra                                           2\n",
            " 6 Angola                                            4\n",
            " 7 Anguilla                                          6\n",
            " 8 Antarctica (the territory South of 60 deg S)      3\n",
            " 9 Antigua and Barbuda                               5\n",
            "10 Argentina                                         2\n",
            "# … with 227 more rows\n"
          ],
          "name": "stdout"
        }
      ]
    },
    {
      "cell_type": "markdown",
      "metadata": {
        "id": "X6RWQS32LNL2",
        "colab_type": "text"
      },
      "source": [
        "This shows that Afghanistan has the most number of consumers since it has the highest count followed by albania.Individuals in these two countries are more likely to visit the site and click on the ad."
      ]
    },
    {
      "cell_type": "code",
      "metadata": {
        "id": "EoKjlEq0MyjD",
        "colab_type": "code",
        "colab": {
          "base_uri": "https://localhost:8080/",
          "height": 301
        },
        "outputId": "2febb676-1c6b-4e42-9969-940ac01c0aa2"
      },
      "source": [
        "#Create a tibble to show count per ad topic line.\n",
        "%%R\n",
        "Ad_Topic_Line <-df  %>%\n",
        "group_by(`Ad Topic Line`)%>%\n",
        "summarise(counts= n())\n",
        "Ad_Topic_Line"
      ],
      "execution_count": 44,
      "outputs": [
        {
          "output_type": "stream",
          "text": [
            "R[write to console]: `summarise()` ungrouping output (override with `.groups` argument)\n",
            "\n"
          ],
          "name": "stderr"
        },
        {
          "output_type": "stream",
          "text": [
            "# A tibble: 1,000 x 2\n",
            "   `Ad Topic Line`                         counts\n",
            "   <chr>                                    <int>\n",
            " 1 Adaptive 24hour Graphic Interface            1\n",
            " 2 Adaptive asynchronous attitude               1\n",
            " 3 Adaptive context-sensitive application       1\n",
            " 4 Adaptive contextually-based methodology      1\n",
            " 5 Adaptive demand-driven knowledgebase         1\n",
            " 6 Adaptive uniform capability                  1\n",
            " 7 Advanced 24/7 productivity                   1\n",
            " 8 Advanced 5thgeneration capability            1\n",
            " 9 Advanced didactic conglomeration             1\n",
            "10 Advanced disintermediate data-warehouse      1\n",
            "# … with 990 more rows\n"
          ],
          "name": "stdout"
        }
      ]
    },
    {
      "cell_type": "markdown",
      "metadata": {
        "id": "KBwBEL7JLgHx",
        "colab_type": "text"
      },
      "source": [
        "#Mean"
      ]
    },
    {
      "cell_type": "code",
      "metadata": {
        "id": "vfYvtX9X3xGh",
        "colab_type": "code",
        "colab": {
          "base_uri": "https://localhost:8080/",
          "height": 35
        },
        "outputId": "e64fe4eb-a928-46b2-92f9-8da34fb7d51e"
      },
      "source": [
        "%%R\n",
        "# Find the mean for Age column \n",
        "Age_mean <- mean(df$Age)\n",
        "Age_mean"
      ],
      "execution_count": null,
      "outputs": [
        {
          "output_type": "stream",
          "text": [
            "[1] 36.009\n"
          ],
          "name": "stdout"
        }
      ]
    },
    {
      "cell_type": "code",
      "metadata": {
        "id": "omt9IDOkF1UO",
        "colab_type": "code",
        "colab": {
          "base_uri": "https://localhost:8080/",
          "height": 35
        },
        "outputId": "96695609-8b94-499b-a229-8564c2fe238d"
      },
      "source": [
        "%%R\n",
        "# Find the mean for Daily Time Spent on Site column \n",
        "Time_mean <- mean(df$`Daily Time Spent on Site`)\n",
        "Time_mean"
      ],
      "execution_count": null,
      "outputs": [
        {
          "output_type": "stream",
          "text": [
            "[1] 65.0002\n"
          ],
          "name": "stdout"
        }
      ]
    },
    {
      "cell_type": "markdown",
      "metadata": {
        "id": "xRx5TCwXuw03",
        "colab_type": "text"
      },
      "source": [
        " The mean of the daily time spent on the site is 65 min"
      ]
    },
    {
      "cell_type": "code",
      "metadata": {
        "id": "xt_yZBGKGJuA",
        "colab_type": "code",
        "colab": {
          "base_uri": "https://localhost:8080/",
          "height": 35
        },
        "outputId": "361643ba-1c4f-4b33-c81a-08414761f7b9"
      },
      "source": [
        "%%R\n",
        "# Find the mean Area Income for column \n",
        "Income_mean <- mean(df$`Area Income`)\n",
        "Income_mean"
      ],
      "execution_count": null,
      "outputs": [
        {
          "output_type": "stream",
          "text": [
            "[1] 55000\n"
          ],
          "name": "stdout"
        }
      ]
    },
    {
      "cell_type": "code",
      "metadata": {
        "id": "VdzJnwnQGg-M",
        "colab_type": "code",
        "colab": {
          "base_uri": "https://localhost:8080/",
          "height": 35
        },
        "outputId": "47e782c7-0a79-47f8-8455-a73a0fd6a395"
      },
      "source": [
        "%%R\n",
        "# Find the mean Daily Internet Usage \n",
        "Internet_use_mean <- mean(df$`Daily Internet Usage`)\n",
        "Internet_use_mean"
      ],
      "execution_count": null,
      "outputs": [
        {
          "output_type": "stream",
          "text": [
            "[1] 180.0001\n"
          ],
          "name": "stdout"
        }
      ]
    },
    {
      "cell_type": "markdown",
      "metadata": {
        "id": "LBmofHKxu5XB",
        "colab_type": "text"
      },
      "source": [
        " The mean amount of min of daily internet usage is 180 "
      ]
    },
    {
      "cell_type": "markdown",
      "metadata": {
        "id": "V5nSLq56LvA2",
        "colab_type": "text"
      },
      "source": [
        "#Median"
      ]
    },
    {
      "cell_type": "code",
      "metadata": {
        "id": "msqsH-SQ4Fx5",
        "colab_type": "code",
        "colab": {
          "base_uri": "https://localhost:8080/",
          "height": 35
        },
        "outputId": "8d7336f7-4229-4429-ece7-b4f515b43aa2"
      },
      "source": [
        "%%R\n",
        "# Find the median for Daily Internet Usage \n",
        "Internet_use_median <- median(df$`Daily Internet Usage`)\n",
        "Internet_use_median"
      ],
      "execution_count": null,
      "outputs": [
        {
          "output_type": "stream",
          "text": [
            "[1] 183.13\n"
          ],
          "name": "stdout"
        }
      ]
    },
    {
      "cell_type": "code",
      "metadata": {
        "id": "dHVcIi094FvT",
        "colab_type": "code",
        "colab": {
          "base_uri": "https://localhost:8080/",
          "height": 35
        },
        "outputId": "2dfe7ee8-5ab6-4349-f9ef-ee244b282e6f"
      },
      "source": [
        "%%R\n",
        "# Find the median for Age column \n",
        "Age_median <- median(df$Age)\n",
        "Age_median"
      ],
      "execution_count": null,
      "outputs": [
        {
          "output_type": "stream",
          "text": [
            "[1] 35\n"
          ],
          "name": "stdout"
        }
      ]
    },
    {
      "cell_type": "code",
      "metadata": {
        "id": "qQeRSt2O4FtO",
        "colab_type": "code",
        "colab": {
          "base_uri": "https://localhost:8080/",
          "height": 35
        },
        "outputId": "f45d3b42-b2c6-4a08-f6ff-c7665a411961"
      },
      "source": [
        "%%R\n",
        "# Find the median for Daily Time Spent on Site column \n",
        "Time_median <- median(df$`Daily Time Spent on Site`)\n",
        "Time_median"
      ],
      "execution_count": null,
      "outputs": [
        {
          "output_type": "stream",
          "text": [
            "[1] 68.215\n"
          ],
          "name": "stdout"
        }
      ]
    },
    {
      "cell_type": "code",
      "metadata": {
        "id": "26Y1-f2l4FpE",
        "colab_type": "code",
        "colab": {
          "base_uri": "https://localhost:8080/",
          "height": 35
        },
        "outputId": "55f6f6dc-d832-423d-f278-f0e4022772d2"
      },
      "source": [
        "%%R\n",
        "# Find the median Area Income for column \n",
        "Income_median <- median(df$`Area Income`)\n",
        "Income_median"
      ],
      "execution_count": null,
      "outputs": [
        {
          "output_type": "stream",
          "text": [
            "[1] 57012.3\n"
          ],
          "name": "stdout"
        }
      ]
    },
    {
      "cell_type": "markdown",
      "metadata": {
        "id": "4zdqweKSMDhV",
        "colab_type": "text"
      },
      "source": [
        "#Mode"
      ]
    },
    {
      "cell_type": "code",
      "metadata": {
        "id": "dcXo3piHtr6N",
        "colab_type": "code",
        "colab": {}
      },
      "source": [
        ""
      ],
      "execution_count": null,
      "outputs": []
    },
    {
      "cell_type": "code",
      "metadata": {
        "id": "Xw8lDlVW4FnK",
        "colab_type": "code",
        "colab": {}
      },
      "source": [
        "# function to get the mode\n",
        "%%R\n",
        "getmode <- function(v) {\n",
        "   uniqv <- unique(v)\n",
        "   uniqv[which.max(tabulate(match(v, uniqv)))]\n",
        "}"
      ],
      "execution_count": 21,
      "outputs": []
    },
    {
      "cell_type": "code",
      "metadata": {
        "id": "HDkRMUIT4FlA",
        "colab_type": "code",
        "colab": {
          "base_uri": "https://localhost:8080/",
          "height": 35
        },
        "outputId": "6661eea5-d3ad-4327-e883-fb52fcb9d710"
      },
      "source": [
        "#Mode for age column\n",
        "%%R\n",
        "Age_mode <- getmode(df$Age)\n",
        "print(Age_mode)"
      ],
      "execution_count": null,
      "outputs": [
        {
          "output_type": "stream",
          "text": [
            "[1] 31\n"
          ],
          "name": "stdout"
        }
      ]
    },
    {
      "cell_type": "markdown",
      "metadata": {
        "id": "FB1kw5WMthR4",
        "colab_type": "text"
      },
      "source": [
        "The most frequent age is 31 years"
      ]
    },
    {
      "cell_type": "code",
      "metadata": {
        "id": "t09beA5VE0jl",
        "colab_type": "code",
        "colab": {
          "base_uri": "https://localhost:8080/",
          "height": 35
        },
        "outputId": "058b6bc7-69ae-45e7-d84e-7c06cb6e294a"
      },
      "source": [
        "#Mode for daily time spent on site column\n",
        "%%R\n",
        "Time_mode <- getmode(df$`Daily Time Spent on Site`)\n",
        "print(Time_mode)"
      ],
      "execution_count": 22,
      "outputs": [
        {
          "output_type": "stream",
          "text": [
            "[1] 62.26\n"
          ],
          "name": "stdout"
        }
      ]
    },
    {
      "cell_type": "markdown",
      "metadata": {
        "id": "Cp7_kb68F6qW",
        "colab_type": "text"
      },
      "source": [
        "The most common time spent on site is 62 minutes."
      ]
    },
    {
      "cell_type": "code",
      "metadata": {
        "id": "Eeavhz_MFbh3",
        "colab_type": "code",
        "colab": {
          "base_uri": "https://localhost:8080/",
          "height": 35
        },
        "outputId": "5b48890a-bcfd-45b5-acc0-4a4b012e8002"
      },
      "source": [
        "#Mode for daily internet usage column\n",
        "%%R\n",
        "Net_mode <- getmode(df$`Daily Internet Usage`)\n",
        "print(Net_mode)"
      ],
      "execution_count": 23,
      "outputs": [
        {
          "output_type": "stream",
          "text": [
            "[1] 167.22\n"
          ],
          "name": "stdout"
        }
      ]
    },
    {
      "cell_type": "markdown",
      "metadata": {
        "id": "yF3Wxe1LGSq0",
        "colab_type": "text"
      },
      "source": [
        "The most common time spent on the internet is 167 minutes per person."
      ]
    },
    {
      "cell_type": "markdown",
      "metadata": {
        "id": "JCFgMI08jeqt",
        "colab_type": "text"
      },
      "source": [
        "#Quantiles"
      ]
    },
    {
      "cell_type": "code",
      "metadata": {
        "id": "aI4AeGiyjVsd",
        "colab_type": "code",
        "colab": {
          "base_uri": "https://localhost:8080/",
          "height": 52
        },
        "outputId": "ab1212b1-96b7-4c13-ee0c-da3976177989"
      },
      "source": [
        "# find the age quantiles\n",
        "%%R\n",
        "Age_quant <- quantile(df$Age)\n",
        "print(Age_quant)"
      ],
      "execution_count": null,
      "outputs": [
        {
          "output_type": "stream",
          "text": [
            "  0%  25%  50%  75% 100% \n",
            "  19   29   35   42   61 \n"
          ],
          "name": "stdout"
        }
      ]
    },
    {
      "cell_type": "code",
      "metadata": {
        "id": "7ecwAnpkxEWx",
        "colab_type": "code",
        "colab": {
          "base_uri": "https://localhost:8080/",
          "height": 52
        },
        "outputId": "8fd13ebc-2e0d-4817-c2f8-facb73817fe1"
      },
      "source": [
        "# Find quantiles for Internet use\n",
        "%%R\n",
        "Net_quant <- quantile(df$`Daily Internet Usage`)\n",
        "print(Net_quant)"
      ],
      "execution_count": null,
      "outputs": [
        {
          "output_type": "stream",
          "text": [
            "      0%      25%      50%      75%     100% \n",
            "104.7800 138.8300 183.1300 218.7925 269.9600 \n"
          ],
          "name": "stdout"
        }
      ]
    },
    {
      "cell_type": "code",
      "metadata": {
        "id": "izPqWiN6yD5T",
        "colab_type": "code",
        "colab": {
          "base_uri": "https://localhost:8080/",
          "height": 52
        },
        "outputId": "2ae31603-14b7-4ee7-851a-8506b99bf3b5"
      },
      "source": [
        "#Find quantiles for Area Income\n",
        "%%R\n",
        "Income_quant <- quantile(df$`Area Income`)\n",
        "print(Income_quant)"
      ],
      "execution_count": null,
      "outputs": [
        {
          "output_type": "stream",
          "text": [
            "      0%      25%      50%      75%     100% \n",
            "13996.50 47031.80 57012.30 65470.64 79484.80 \n"
          ],
          "name": "stdout"
        }
      ]
    },
    {
      "cell_type": "markdown",
      "metadata": {
        "id": "5PI9mtkMz4r-",
        "colab_type": "text"
      },
      "source": [
        "#Minimum"
      ]
    },
    {
      "cell_type": "code",
      "metadata": {
        "id": "ijLas34Vz3pB",
        "colab_type": "code",
        "colab": {
          "base_uri": "https://localhost:8080/",
          "height": 35
        },
        "outputId": "fff88c12-e503-4ca5-9eb8-8ba809101fd5"
      },
      "source": [
        "# Mininimum age \n",
        "%%R\n",
        "Age_min <- min(df$Age)\n",
        "print(Age_min)\n"
      ],
      "execution_count": null,
      "outputs": [
        {
          "output_type": "stream",
          "text": [
            "[1] 19\n"
          ],
          "name": "stdout"
        }
      ]
    },
    {
      "cell_type": "markdown",
      "metadata": {
        "id": "ka9AnZ1y25EN",
        "colab_type": "text"
      },
      "source": [
        "Youngest age for person who saw the Ad"
      ]
    },
    {
      "cell_type": "markdown",
      "metadata": {
        "id": "CNvdtOkZ4Sjb",
        "colab_type": "text"
      },
      "source": [
        "#Maximum"
      ]
    },
    {
      "cell_type": "code",
      "metadata": {
        "id": "CS43zQ2cxEgP",
        "colab_type": "code",
        "colab": {
          "base_uri": "https://localhost:8080/",
          "height": 35
        },
        "outputId": "fba5ee8a-e46e-4cde-d159-7813b14973e0"
      },
      "source": [
        "# Maximum age\n",
        "%%R\n",
        "Age_max <- max(df$Age)\n",
        "print(Age_max)"
      ],
      "execution_count": null,
      "outputs": [
        {
          "output_type": "stream",
          "text": [
            "[1] 61\n"
          ],
          "name": "stdout"
        }
      ]
    },
    {
      "cell_type": "markdown",
      "metadata": {
        "id": "nTMO1rA62rAA",
        "colab_type": "text"
      },
      "source": [
        "Oldest age for person who saw the Ad"
      ]
    },
    {
      "cell_type": "code",
      "metadata": {
        "id": "NV-1uXZr4BUp",
        "colab_type": "code",
        "colab": {
          "base_uri": "https://localhost:8080/",
          "height": 35
        },
        "outputId": "ee5faf0f-a382-4725-9abd-29c5b746892c"
      },
      "source": [
        "# find the range for Age column\n",
        "%%R\n",
        "Age_range <- range(df$Age)\n",
        "print(Age_range )"
      ],
      "execution_count": null,
      "outputs": [
        {
          "output_type": "stream",
          "text": [
            "[1] 19 61\n"
          ],
          "name": "stdout"
        }
      ]
    },
    {
      "cell_type": "code",
      "metadata": {
        "id": "6oU87ad263TA",
        "colab_type": "code",
        "colab": {
          "base_uri": "https://localhost:8080/",
          "height": 35
        },
        "outputId": "f3a8c05c-c284-40ab-fe59-0cd0c71625a2"
      },
      "source": [
        "\n",
        "# find the range for Daily Time Spent on Site column\n",
        "%%R\n",
        "Time_range <- range(df$`Daily Time Spent on Site`)\n",
        "print(Time_range)"
      ],
      "execution_count": null,
      "outputs": [
        {
          "output_type": "stream",
          "text": [
            "[1] 32.60 91.43\n"
          ],
          "name": "stdout"
        }
      ]
    },
    {
      "cell_type": "markdown",
      "metadata": {
        "id": "EhhA0A1b7w6M",
        "colab_type": "text"
      },
      "source": [
        "Time spent on the online cryptography course site ranged from 32.60 minutes to 91.43 minutes"
      ]
    },
    {
      "cell_type": "markdown",
      "metadata": {
        "id": "bgzzkdeU3Z9I",
        "colab_type": "text"
      },
      "source": [
        "#7.Bivariate Analysis"
      ]
    },
    {
      "cell_type": "markdown",
      "metadata": {
        "id": "48ZAvyjbjaJL",
        "colab_type": "text"
      },
      "source": [
        "# Covariance\n",
        "\n",
        "This measures the directional relationship between two variables.A positive covariance means that the two variables move in the same direction and a negative covariance means they move inversely."
      ]
    },
    {
      "cell_type": "code",
      "metadata": {
        "id": "8W2UYL-MehCK",
        "colab_type": "code",
        "colab": {
          "base_uri": "https://localhost:8080/",
          "height": 35
        },
        "outputId": "60ded071-e8b5-413a-ebaf-af5523a037cf"
      },
      "source": [
        "#Finding the covariance between the DailyTime Spent on Site and Daily Internet Usage\n",
        "%%R\n",
        "time_ad_c <- df$`Daily Time Spent on Site`\n",
        "net_usage_c <- df$`Daily Internet Usage`\n",
        "cov(time_ad_c,net_usage_c)\n"
      ],
      "execution_count": 8,
      "outputs": [
        {
          "output_type": "stream",
          "text": [
            "[1] 360.9919\n"
          ],
          "name": "stdout"
        }
      ]
    },
    {
      "cell_type": "markdown",
      "metadata": {
        "id": "ntFUPWf_8eGI",
        "colab_type": "text"
      },
      "source": [
        "There is a high covariance of 360 which indicates a positive relationship between the Daily Time Spent on Site and Daily Internet Usage."
      ]
    },
    {
      "cell_type": "code",
      "metadata": {
        "id": "D54YqtYoefqY",
        "colab_type": "code",
        "colab": {
          "base_uri": "https://localhost:8080/",
          "height": 35
        },
        "outputId": "b207f1db-dcab-4150-fa66-d8a1a5183225"
      },
      "source": [
        "#Covariance between the Age column and Clicked on Ad column.\n",
        "%%R\n",
        "Age_cov_c <- df$Age\n",
        "Ad_cov_c <- df$`Clicked on Ad`\n",
        "cov(Age_cov_c,Ad_cov_c)"
      ],
      "execution_count": 9,
      "outputs": [
        {
          "output_type": "stream",
          "text": [
            "[1] 2.164665\n"
          ],
          "name": "stdout"
        }
      ]
    },
    {
      "cell_type": "markdown",
      "metadata": {
        "id": "AY-nG75Oa2Qj",
        "colab_type": "text"
      },
      "source": [
        "There is a very low covariance between Age  and Clicked on Ad column as indicated by the low value."
      ]
    },
    {
      "cell_type": "code",
      "metadata": {
        "id": "QPHsZEOlfZCa",
        "colab_type": "code",
        "colab": {
          "base_uri": "https://localhost:8080/",
          "height": 35
        },
        "outputId": "f78045ba-6472-4543-ad71-ba41c84e7ecd"
      },
      "source": [
        "#Covariance between the Area Income and Clicked on Ad column.\n",
        "%%R\n",
        "Area_cov_c <- df$`Area Income`\n",
        "Ad_cov_c <- df$`Clicked on Ad`\n",
        "cov(Area_cov_c,Ad_cov_c)"
      ],
      "execution_count": 10,
      "outputs": [
        {
          "output_type": "stream",
          "text": [
            "[1] -3195.989\n"
          ],
          "name": "stdout"
        }
      ]
    },
    {
      "cell_type": "markdown",
      "metadata": {
        "id": "BWK3BCgqkege",
        "colab_type": "text"
      },
      "source": [
        "This is a negative covariance and shows that the Area Income column and the Clicked on Ad column are inversely related."
      ]
    },
    {
      "cell_type": "markdown",
      "metadata": {
        "id": "Twm_zR2cgN4x",
        "colab_type": "text"
      },
      "source": [
        "#Correlation\n",
        "\n",
        " Shows the measurement of how variables two are linearly related and therefore shows the statistical relationship."
      ]
    },
    {
      "cell_type": "code",
      "metadata": {
        "id": "CbeSj1IH3h9S",
        "colab_type": "code",
        "colab": {
          "base_uri": "https://localhost:8080/",
          "height": 266
        },
        "outputId": "f1e2295d-97ba-4da3-857d-2f6ac269b42e"
      },
      "source": [
        "#Lets find the correlation between various Numerical columns.\n",
        "%%R\n",
        "\n",
        "x <- round(cor(select_if(df, is.numeric)), 2)\n",
        "res <- cor(x)\n",
        "corr <- round(res,2)\n",
        "print(corr)"
      ],
      "execution_count": null,
      "outputs": [
        {
          "output_type": "stream",
          "text": [
            "                         Daily Time Spent on Site   Age Area Income\n",
            "Daily Time Spent on Site                     1.00 -0.80        0.69\n",
            "Age                                         -0.80  1.00       -0.67\n",
            "Area Income                                  0.69 -0.67        1.00\n",
            "Daily Internet Usage                         0.88 -0.83        0.71\n",
            "Male                                        -0.08 -0.14       -0.12\n",
            "Clicked on Ad                               -0.95  0.85       -0.79\n",
            "                         Daily Internet Usage  Male Clicked on Ad\n",
            "Daily Time Spent on Site                 0.88 -0.08         -0.95\n",
            "Age                                     -0.83 -0.14          0.85\n",
            "Area Income                              0.71 -0.12         -0.79\n",
            "Daily Internet Usage                     1.00 -0.02         -0.97\n",
            "Male                                    -0.02  1.00         -0.01\n",
            "Clicked on Ad                           -0.97 -0.01          1.00\n"
          ],
          "name": "stdout"
        }
      ]
    },
    {
      "cell_type": "markdown",
      "metadata": {
        "id": "k3bS3Egjc7bR",
        "colab_type": "text"
      },
      "source": [
        "The correlation between the variables and themselves is 1 as seen in the correlation summary.There is a strong positive relationship between Daily Time Spent on Site  and the Daily Internet Usage, as the correlation between the 2 variables is 0.88 meaning the more time spent on site the more likely it is one will use more internet on a daily basis.\n",
        "There is a strong negative relationship between Daily Time Spent on Site and the Clicked on Ad column as shown by a correlation of -0.95"
      ]
    },
    {
      "cell_type": "code",
      "metadata": {
        "id": "vAp960GHe3Rt",
        "colab_type": "code",
        "colab": {
          "base_uri": "https://localhost:8080/",
          "height": 497
        },
        "outputId": "260175e3-58ed-4e52-aa68-609876d491b2"
      },
      "source": [
        "#Scatter plot between the Daily time spent on site and Daily Internet Usage\n",
        "%%R\n",
        "plot(time_ad_c,net_usage_c, xlab=\"Daily time spent on site\",\n",
        "     ylab=\"Daily Internet Usage\", pch = 12, frame= FALSE)"
      ],
      "execution_count": 11,
      "outputs": [
        {
          "output_type": "display_data",
          "data": {
            "image/png": "[encoded data removed]"
          },
          "metadata": {
            "tags": []
          }
        }
      ]
    },
    {
      "cell_type": "markdown",
      "metadata": {
        "id": "PDahBXIHuHeu",
        "colab_type": "text"
      },
      "source": [
        "From the scatter plot, it shows that the 2 variables are very highly correlated as shown by the data points pattern.It shows that one variable is related to the other."
      ]
    },
    {
      "cell_type": "code",
      "metadata": {
        "id": "LopJUI49Blzx",
        "colab_type": "code",
        "colab": {
          "base_uri": "https://localhost:8080/",
          "height": 497
        },
        "outputId": "7b6afb97-e827-4202-b5cf-938f91e46365"
      },
      "source": [
        "#Scatter plot of age column and daily internet usage.\n",
        "%%R\n",
        "plot(Age_cov_c,net_usage_c, xlab=\"Age\",\n",
        "     ylab=\"Daily Internet Usage\",pch = 12, frame= FALSE)"
      ],
      "execution_count": 12,
      "outputs": [
        {
          "output_type": "display_data",
          "data": {
            "image/png": "[encoded data removed]"
          },
          "metadata": {
            "tags": []
          }
        }
      ]
    },
    {
      "cell_type": "markdown",
      "metadata": {
        "id": "2uqmuIVMPApV",
        "colab_type": "text"
      },
      "source": [
        "From the scatter plot, it shows that the 2 variables are very highly correlated as shown by the data points pattern.The correlation coefficient of the two is -0.83."
      ]
    },
    {
      "cell_type": "code",
      "metadata": {
        "id": "5fNLyS6wBr4H",
        "colab_type": "code",
        "colab": {
          "base_uri": "https://localhost:8080/",
          "height": 497
        },
        "outputId": "d96b1bbe-9498-424f-bb14-f87ad138966f"
      },
      "source": [
        "#Scatter plot of age column and daily time spent on site.\n",
        "%%R\n",
        "plot(Age_cov_c,net_usage_c, xlab=\"Age\",\n",
        "     ylab=\"Daily time spent on site\" ,pch = 12, frame= FALSE)\n"
      ],
      "execution_count": 20,
      "outputs": [
        {
          "output_type": "display_data",
          "data": {
            "image/png": "[encoded data removed]"
          },
          "metadata": {
            "tags": []
          }
        }
      ]
    },
    {
      "cell_type": "markdown",
      "metadata": {
        "id": "B9zt8TpyOvfC",
        "colab_type": "text"
      },
      "source": [
        "The plot above shows that the daily time spent on site and age variables are highly correlated.This supports the correlation coefficient we found earlier of -0.80."
      ]
    },
    {
      "cell_type": "markdown",
      "metadata": {
        "id": "P3dQQ9Hdc00F",
        "colab_type": "text"
      },
      "source": [
        "#8.Multivariate Analysis"
      ]
    },
    {
      "cell_type": "code",
      "metadata": {
        "id": "DgFf_iGR3hyI",
        "colab_type": "code",
        "colab": {}
      },
      "source": [
        "%%R\n",
        "install.packages(\"scatterplot3d\")\n",
        "library(scatterplot3d)# Enables us to plot a scatter3d plot"
      ],
      "execution_count": null,
      "outputs": []
    },
    {
      "cell_type": "code",
      "metadata": {
        "id": "wfI9-MS93huq",
        "colab_type": "code",
        "colab": {
          "base_uri": "https://localhost:8080/",
          "height": 497
        },
        "outputId": "0c93d762-0ddc-4077-ed1e-d454b40a820e"
      },
      "source": [
        "# Plotting a 3D scatter matrix\n",
        "%%R\n",
        "x <- df$Age\n",
        "y <- df$`Daily Time Spent on Site`\n",
        "z <- df$`Area Income`\n",
        "grps <- as.factor(df$`Clicked on Ad`)\n",
        "# Plot\n",
        "library(scatterplot3d)\n",
        "scatterplot3d(x, y, z, pch = 16)"
      ],
      "execution_count": null,
      "outputs": [
        {
          "output_type": "display_data",
          "data": {
            "image/png": "[encoded data removed]"
          },
          "metadata": {
            "tags": []
          }
        }
      ]
    },
    {
      "cell_type": "code",
      "metadata": {
        "id": "d36GtZ8yh5xh",
        "colab_type": "code",
        "colab": {
          "base_uri": "https://localhost:8080/",
          "height": 497
        },
        "outputId": "90fb4b9c-752f-4586-d555-4eb65f985483"
      },
      "source": [
        "# Change color by groups\n",
        "# add grids and remove the box around the plot\n",
        "# Change axis labels: xlab, ylab and zlab\n",
        "%%R\n",
        "colors <- c(\"#999999\", \"#E69F00\", \"#56B4E9\")\n",
        "scatterplot3d(x, y, z, pch = 16, color = colors[grps],\n",
        "              grid = TRUE, box = FALSE, xlab = \"Age\", \n",
        "              ylab = \"Daily Time Spent on Site\", zlab = \"Male\")\n"
      ],
      "execution_count": null,
      "outputs": [
        {
          "output_type": "display_data",
          "data": {
            "image/png": "[encoded data removed]"
          },
          "metadata": {
            "tags": []
          }
        }
      ]
    },
    {
      "cell_type": "markdown",
      "metadata": {
        "id": "yrayZHY9lokh",
        "colab_type": "text"
      },
      "source": [
        "When data points tend to rise together this suggests a positive correlation."
      ]
    },
    {
      "cell_type": "markdown",
      "metadata": {
        "id": "O28NxiQX8yuy",
        "colab_type": "text"
      },
      "source": [
        "#9.Conclusion.\n",
        "\n",
        "1.Most people involved in this study were between the age of 30-40 yrs from the univariate plots of the age column which suggests that young people love going online most likely to access information.These people in the agegroup 30-40 should be actively targeted when trying to advertise inorder for a business to be successful.Since we have seen there is a strong positive correlation between the time spent on the Internet and the Internet usage.So it is clear that users who spend more time on the internet also spend time on the site.\n",
        "\n",
        "2.The average age of a person in this study is 36 years old, the youngest user is 19 and the oldest is 61 years old and therefore we conclude that the site is targetting adult users.Mid aged level are more inclined towards clicking on an ad than others.\n",
        "\n",
        "3.More females were involved in this study than males ,therefore the kenyan entrepreneur should target more females and younger people.\n",
        "\n",
        "\n",
        "\n",
        "\n"
      ]
    }
  ]
}